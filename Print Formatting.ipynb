{
 "cells": [
  {
   "cell_type": "code",
   "execution_count": 1,
   "metadata": {},
   "outputs": [
    {
     "name": "stdout",
     "output_type": "stream",
     "text": [
      "this is a string\n"
     ]
    }
   ],
   "source": [
    "print 'this is a string'"
   ]
  },
  {
   "cell_type": "code",
   "execution_count": 2,
   "metadata": {},
   "outputs": [
    {
     "name": "stdout",
     "output_type": "stream",
     "text": [
      "Place my variable here: String\n"
     ]
    }
   ],
   "source": [
    "s = 'String'\n",
    "\n",
    "print 'Place my variable here: %s' %(s)"
   ]
  },
  {
   "cell_type": "code",
   "execution_count": 77,
   "metadata": {},
   "outputs": [
    {
     "name": "stdout",
     "output_type": "stream",
     "text": [
      "Jen last name is Chang\n",
      "Jen likes Chang giggle kimchi\n",
      "Jen likes arepas\n",
      "Natalie is the first born of Natalie's family and her name is Natalie\n"
     ]
    }
   ],
   "source": [
    "firstname = 'Jen'\n",
    "lastname = 'Chang'\n",
    "middlename = 'giggle'\n",
    "foodname = 'kimchi'\n",
    "print '%s last name is %s' %(firstname, lastname) \n",
    "print '%s likes %s %s %s' %(firstname, lastname, middlename, foodname)\n",
    "print '%s likes arepas' %(firstname)\n",
    "print \"{x} is the first born of {x}'s family and her name is {x}\".format(x='Natalie')"
   ]
  },
  {
   "cell_type": "code",
   "execution_count": 5,
   "metadata": {
    "collapsed": true
   },
   "outputs": [],
   "source": [
    "lastname = 'lee'"
   ]
  },
  {
   "cell_type": "code",
   "execution_count": 13,
   "metadata": {
    "collapsed": true
   },
   "outputs": [],
   "source": [
    "middlename = 'giggle'"
   ]
  },
  {
   "cell_type": "code",
   "execution_count": 15,
   "metadata": {},
   "outputs": [
    {
     "name": "stdout",
     "output_type": "stream",
     "text": [
      "my name is: inae giggle lee\n"
     ]
    }
   ],
   "source": [
    "print 'my name is: %s %s %s' %(firstname, middlename, lastname)"
   ]
  },
  {
   "cell_type": "code",
   "execution_count": 43,
   "metadata": {},
   "outputs": [
    {
     "name": "stdout",
     "output_type": "stream",
     "text": [
      "Jen likes Arepas with banana\n"
     ]
    }
   ],
   "source": [
    "firtname = 'Jen'\n",
    "favfood1 = 'Arepas'\n",
    "favfood2 = 'banana'\n",
    "print '%s likes %s with %s' %(firstname, favfood1, favfood2)"
   ]
  },
  {
   "cell_type": "code",
   "execution_count": 44,
   "metadata": {},
   "outputs": [
    {
     "name": "stdout",
     "output_type": "stream",
     "text": [
      "place my variable here: 13.13\n"
     ]
    }
   ],
   "source": [
    "x = 13.13 \n",
    "print 'place my variable here: %s' %(x)"
   ]
  },
  {
   "cell_type": "code",
   "execution_count": 59,
   "metadata": {},
   "outputs": [
    {
     "name": "stdout",
     "output_type": "stream",
     "text": [
      "Floating point number:            13.14577565000\n",
      "Floating point number:                                     13.14577565000\n",
      "Floating point number:                                                                 13.14577565000\n",
      "Floating point number:                                                                                       13.14577565000\n",
      "Floating point number: 13.14577565000\n",
      "Floating point number: 13.14577565000\n"
     ]
    }
   ],
   "source": [
    "print 'Floating point number: %25.11f' %(13.14577565)\n",
    "print 'Floating point number: %50.11f' %(13.14577565)\n",
    "print 'Floating point number: %78.11f' %(13.14577565)\n",
    "print 'Floating point number: %100.11f' %(13.14577565)\n",
    "print 'Floating point number: %5.11f' %(13.14577565)\n",
    "print 'Floating point number: %8.11f' %(13.14577565)\n",
    "\n"
   ]
  },
  {
   "cell_type": "code",
   "execution_count": 64,
   "metadata": {},
   "outputs": [
    {
     "name": "stdout",
     "output_type": "stream",
     "text": [
      "13.34535342\n",
      "                                       13.34535342\n"
     ]
    }
   ],
   "source": [
    "print '%10.8f' %(13.34535342)\n",
    "print '%50.8f' %(13.34535342)\n",
    "\n"
   ]
  },
  {
   "cell_type": "code",
   "execution_count": 66,
   "metadata": {},
   "outputs": [
    {
     "name": "stdout",
     "output_type": "stream",
     "text": [
      "Convert to string 123\n"
     ]
    }
   ],
   "source": [
    "print 'Convert to string %s' %(123)"
   ]
  },
  {
   "cell_type": "code",
   "execution_count": 67,
   "metadata": {},
   "outputs": [
    {
     "name": "stdout",
     "output_type": "stream",
     "text": [
      "first: hi, Second: two, Third 3\n"
     ]
    }
   ],
   "source": [
    "print 'First: %s, Second: %s, Third %s' %('hi', 'two', 3)"
   ]
  },
  {
   "cell_type": "code",
   "execution_count": 71,
   "metadata": {},
   "outputs": [
    {
     "name": "stdout",
     "output_type": "stream",
     "text": [
      "First: 2, Second: 2\n"
     ]
    }
   ],
   "source": [
    "print 'First: %s, Second: %s' %(2,2)"
   ]
  },
  {
   "cell_type": "code",
   "execution_count": 79,
   "metadata": {},
   "outputs": [
    {
     "name": "stdout",
     "output_type": "stream",
     "text": [
      "First: inserted Second: two! Third: inserted\n"
     ]
    }
   ],
   "source": [
    "print 'First: {x} Second: {y} Third: {x}'.format(x='inserted', y='two!')"
   ]
  },
  {
   "cell_type": "code",
   "execution_count": 83,
   "metadata": {},
   "outputs": [],
   "source": [
    "from __future__ import print_function"
   ]
  },
  {
   "cell_type": "code",
   "execution_count": 84,
   "metadata": {},
   "outputs": [
    {
     "name": "stdout",
     "output_type": "stream",
     "text": [
      "python\n"
     ]
    }
   ],
   "source": [
    "print('python')"
   ]
  },
  {
   "cell_type": "code",
   "execution_count": 86,
   "metadata": {},
   "outputs": [
    {
     "name": "stdout",
     "output_type": "stream",
     "text": [
      "One: Inside\n"
     ]
    }
   ],
   "source": [
    "print('One: {x}'.format(x='Inside'))"
   ]
  },
  {
   "cell_type": "code",
   "execution_count": 97,
   "metadata": {},
   "outputs": [
    {
     "name": "stdout",
     "output_type": "stream",
     "text": [
      "Hello hi gomen nagaseyo \n"
     ]
    }
   ],
   "source": [
    "print('Hello {x} {z} {y} '.format(x='hi', y='nagaseyo', z='gomen'))"
   ]
  },
  {
   "cell_type": "code",
   "execution_count": null,
   "metadata": {
    "collapsed": true
   },
   "outputs": [],
   "source": []
  }
 ],
 "metadata": {
  "kernelspec": {
   "display_name": "Python 2",
   "language": "python",
   "name": "python2"
  },
  "language_info": {
   "codemirror_mode": {
    "name": "ipython",
    "version": 2
   },
   "file_extension": ".py",
   "mimetype": "text/x-python",
   "name": "python",
   "nbconvert_exporter": "python",
   "pygments_lexer": "ipython2",
   "version": "2.7.14"
  }
 },
 "nbformat": 4,
 "nbformat_minor": 2
}

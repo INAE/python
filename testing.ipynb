{
 "cells": [
  {
   "cell_type": "code",
   "execution_count": 1,
   "metadata": {
    "collapsed": true
   },
   "outputs": [],
   "source": [
    "s = 'Hello World'"
   ]
  },
  {
   "cell_type": "code",
   "execution_count": 13,
   "metadata": {},
   "outputs": [
    {
     "data": {
      "text/plain": [
       "False"
      ]
     },
     "execution_count": 13,
     "metadata": {},
     "output_type": "execute_result"
    }
   ],
   "source": [
    "s.isupper() \n",
    "s[0].isupper()\n",
    "s[1].isupper()"
   ]
  },
  {
   "cell_type": "code",
   "execution_count": 30,
   "metadata": {},
   "outputs": [
    {
     "name": "stdout",
     "output_type": "stream",
     "text": [
      "letters\n",
      "letters\n",
      "letters\n",
      "letters\n",
      "letters\n",
      "letters\n",
      "letters\n",
      "letters\n",
      "letters\n",
      "letters\n",
      "letters\n"
     ]
    }
   ],
   "source": [
    "for letters in s:\n",
    "    print 'letters'"
   ]
  },
  {
   "cell_type": "code",
   "execution_count": 32,
   "metadata": {},
   "outputs": [
    {
     "name": "stdout",
     "output_type": "stream",
     "text": [
      "H\n",
      "e\n",
      "l\n",
      "l\n",
      "o\n",
      " \n",
      "W\n",
      "o\n",
      "r\n",
      "l\n",
      "d\n"
     ]
    }
   ],
   "source": [
    "for ul in s:\n",
    "    print ul\n"
   ]
  },
  {
   "cell_type": "code",
   "execution_count": 38,
   "metadata": {},
   "outputs": [
    {
     "name": "stdout",
     "output_type": "stream",
     "text": [
      "<built-in method isupper of str object at 0x1053375f8>\n",
      "<built-in method isupper of str object at 0x1053375f8>\n",
      "<built-in method isupper of str object at 0x1053375f8>\n",
      "<built-in method isupper of str object at 0x1053375f8>\n",
      "<built-in method isupper of str object at 0x1053375f8>\n",
      "<built-in method isupper of str object at 0x1053375f8>\n",
      "<built-in method isupper of str object at 0x1053375f8>\n",
      "<built-in method isupper of str object at 0x1053375f8>\n",
      "<built-in method isupper of str object at 0x1053375f8>\n",
      "<built-in method isupper of str object at 0x1053375f8>\n",
      "<built-in method isupper of str object at 0x1053375f8>\n"
     ]
    }
   ],
   "source": [
    "for ul in s:\n",
    "    print s[0].isupper"
   ]
  },
  {
   "cell_type": "code",
   "execution_count": 51,
   "metadata": {},
   "outputs": [
    {
     "name": "stdout",
     "output_type": "stream",
     "text": [
      "num is Lower Letter\n",
      "num is Lower Letter\n",
      "num is Lower Letter\n",
      "num is Lower Letter\n",
      "num is Lower Letter\n",
      "num is Lower Letter\n",
      "num is Lower Letter\n",
      "num is Lower Letter\n",
      "num is Lower Letter\n",
      "num is Lower Letter\n",
      "num is Lower Letter\n"
     ]
    }
   ],
   "source": [
    "for ul in s: \n",
    "    if s.isupper():\n",
    "        print '%s is Upper Letter'%(ul)\n",
    "    else: \n",
    "        print 'num is Lower Letter'"
   ]
  },
  {
   "cell_type": "code",
   "execution_count": 52,
   "metadata": {},
   "outputs": [
    {
     "name": "stdout",
     "output_type": "stream",
     "text": [
      "H\n",
      "e\n",
      "l\n",
      "l\n",
      "o\n",
      " \n",
      "W\n",
      "o\n",
      "r\n",
      "l\n",
      "d\n"
     ]
    }
   ],
   "source": [
    "for ul in s: \n",
    "    print ul"
   ]
  },
  {
   "cell_type": "code",
   "execution_count": 61,
   "metadata": {
    "collapsed": true
   },
   "outputs": [],
   "source": [
    "str = s"
   ]
  },
  {
   "cell_type": "code",
   "execution_count": 62,
   "metadata": {},
   "outputs": [
    {
     "data": {
      "text/plain": [
       "'Hello World'"
      ]
     },
     "execution_count": 62,
     "metadata": {},
     "output_type": "execute_result"
    }
   ],
   "source": [
    "s"
   ]
  },
  {
   "cell_type": "code",
   "execution_count": 63,
   "metadata": {},
   "outputs": [
    {
     "name": "stdout",
     "output_type": "stream",
     "text": [
      "this is the count of the lower letter\n",
      "8\n",
      "this is the count of the upper letter\n",
      "2\n"
     ]
    }
   ],
   "source": [
    "string = s \n",
    "count1 = 0 \n",
    "count2 = 0 \n",
    "for l in str: \n",
    "    if (l.isupper()):\n",
    "        count1 = count1+1 \n",
    "    if (l.islower()):\n",
    "        count2 = count2+1 \n",
    "print 'this is the count of the lower letter'\n",
    "print count2\n",
    "print 'this is the count of the upper letter'\n",
    "print count1"
   ]
  },
  {
   "cell_type": "code",
   "execution_count": 67,
   "metadata": {
    "collapsed": true
   },
   "outputs": [],
   "source": [
    "s = 'Hello Mr. Rogers, how are you this fine Tuesday?'\n",
    "def up_low(s):\n",
    "    count1 = [0] \n",
    "    count2 = [0] \n",
    "    for up_low in s: \n",
    "        if (l.isupper()):\n",
    "            count1 = count1 + [1] \n",
    "        if (l.islower()):\n",
    "            count2 = count2 + [1] \n",
    "        print '%s is the count of the lower letter'%(count2)\n",
    "        print '%s is the count of the upper letter'%(count1)"
   ]
  },
  {
   "cell_type": "code",
   "execution_count": 68,
   "metadata": {
    "collapsed": true
   },
   "outputs": [],
   "source": [
    "l = [1,1, 1, 2, 3, 4, 5,6, 6, 6]"
   ]
  },
  {
   "cell_type": "code",
   "execution_count": 78,
   "metadata": {
    "scrolled": true
   },
   "outputs": [
    {
     "data": {
      "text/plain": [
       "{1, 2, 3, 4, 5, 6}"
      ]
     },
     "execution_count": 78,
     "metadata": {},
     "output_type": "execute_result"
    }
   ],
   "source": [
    "set(l)"
   ]
  },
  {
   "cell_type": "code",
   "execution_count": null,
   "metadata": {},
   "outputs": [],
   "source": []
  },
  {
   "cell_type": "code",
   "execution_count": 91,
   "metadata": {},
   "outputs": [
    {
     "name": "stdout",
     "output_type": "stream",
     "text": [
      "1\n",
      "2\n",
      "3\n",
      "4\n",
      "5\n",
      "6\n"
     ]
    }
   ],
   "source": [
    "for num in set(l):\n",
    "    print num \n",
    "    num = [num]"
   ]
  },
  {
   "cell_type": "code",
   "execution_count": null,
   "metadata": {
    "collapsed": true
   },
   "outputs": [],
   "source": []
  }
 ],
 "metadata": {
  "kernelspec": {
   "display_name": "Python 2",
   "language": "python",
   "name": "python2"
  },
  "language_info": {
   "codemirror_mode": {
    "name": "ipython",
    "version": 2
   },
   "file_extension": ".py",
   "mimetype": "text/x-python",
   "name": "python",
   "nbconvert_exporter": "python",
   "pygments_lexer": "ipython2",
   "version": "2.7.14"
  }
 },
 "nbformat": 4,
 "nbformat_minor": 2
}
